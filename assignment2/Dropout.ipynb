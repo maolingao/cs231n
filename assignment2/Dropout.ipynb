{
 "cells": [
  {
   "cell_type": "markdown",
   "metadata": {},
   "source": [
    "# Dropout\n",
    "Dropout [1] is a technique for regularizing neural networks by randomly setting some features to zero during the forward pass. In this exercise you will implement a dropout layer and modify your fully-connected network to optionally use dropout.\n",
    "\n",
    "[1] Geoffrey E. Hinton et al, \"Improving neural networks by preventing co-adaptation of feature detectors\", arXiv 2012"
   ]
  },
  {
   "cell_type": "code",
   "execution_count": 1,
   "metadata": {
    "collapsed": false
   },
   "outputs": [],
   "source": [
    "# As usual, a bit of setup\n",
    "\n",
    "import time\n",
    "import numpy as np\n",
    "import matplotlib.pyplot as plt\n",
    "from cs231n.classifiers.fc_net import *\n",
    "from cs231n.data_utils import get_CIFAR10_data\n",
    "from cs231n.gradient_check import eval_numerical_gradient, eval_numerical_gradient_array\n",
    "from cs231n.solver import Solver\n",
    "\n",
    "%matplotlib inline\n",
    "plt.rcParams['figure.figsize'] = (10.0, 8.0) # set default size of plots\n",
    "plt.rcParams['image.interpolation'] = 'nearest'\n",
    "plt.rcParams['image.cmap'] = 'gray'\n",
    "\n",
    "# for auto-reloading external modules\n",
    "# see http://stackoverflow.com/questions/1907993/autoreload-of-modules-in-ipython\n",
    "%load_ext autoreload\n",
    "%autoreload 2\n",
    "\n",
    "def rel_error(x, y):\n",
    "  \"\"\" returns relative error \"\"\"\n",
    "  return np.max(np.abs(x - y) / (np.maximum(1e-8, np.abs(x) + np.abs(y))))"
   ]
  },
  {
   "cell_type": "code",
   "execution_count": 2,
   "metadata": {
    "collapsed": false
   },
   "outputs": [
    {
     "name": "stdout",
     "output_type": "stream",
     "text": [
      "X_val:  (1000, 3, 32, 32)\n",
      "X_train:  (49000, 3, 32, 32)\n",
      "X_test:  (1000, 3, 32, 32)\n",
      "y_val:  (1000,)\n",
      "y_train:  (49000,)\n",
      "y_test:  (1000,)\n"
     ]
    }
   ],
   "source": [
    "# Load the (preprocessed) CIFAR10 data.\n",
    "\n",
    "data = get_CIFAR10_data()\n",
    "for k, v in data.iteritems():\n",
    "  print '%s: ' % k, v.shape"
   ]
  },
  {
   "cell_type": "markdown",
   "metadata": {},
   "source": [
    "# Dropout forward pass\n",
    "In the file `cs231n/layers.py`, implement the forward pass for dropout. Since dropout behaves differently during training and testing, make sure to implement the operation for both modes.\n",
    "\n",
    "Once you have done so, run the cell below to test your implementation."
   ]
  },
  {
   "cell_type": "code",
   "execution_count": 3,
   "metadata": {
    "collapsed": false
   },
   "outputs": [
    {
     "name": "stdout",
     "output_type": "stream",
     "text": [
      "Running tests with p =  0\n",
      "Mean of input:  9.99814212716\n",
      "Mean of train-time output:  9.99814212716\n",
      "Mean of test-time output:  9.99814212716\n",
      "Fraction of train-time output set to zero:  0.0\n",
      "Fraction of test-time output set to zero:  0.0\n",
      "\n",
      "Running tests with p =  0.3\n",
      "Mean of input:  9.99814212716\n",
      "Mean of train-time output:  23.3099183225\n",
      "Mean of test-time output:  9.99814212716\n",
      "Fraction of train-time output set to zero:  0.300596\n",
      "Fraction of test-time output set to zero:  0.0\n",
      "\n",
      "Running tests with p =  0.6\n",
      "Mean of input:  9.99814212716\n",
      "Mean of train-time output:  6.63978749829\n",
      "Mean of test-time output:  9.99814212716\n",
      "Fraction of train-time output set to zero:  0.601572\n",
      "Fraction of test-time output set to zero:  0.0\n",
      "\n",
      "Running tests with p =  0.75\n",
      "Mean of input:  9.99814212716\n",
      "Mean of train-time output:  3.35484058737\n",
      "Mean of test-time output:  9.99814212716\n",
      "Fraction of train-time output set to zero:  0.748228\n",
      "Fraction of test-time output set to zero:  0.0\n",
      "\n"
     ]
    }
   ],
   "source": [
    "x = np.random.randn(500, 500) + 10\n",
    "\n",
    "for p in [0, 0.3, 0.6, 0.75]:\n",
    "  out, _ = dropout_forward(x, {'mode': 'train', 'p': p})\n",
    "  out_test, _ = dropout_forward(x, {'mode': 'test', 'p': p})\n",
    "\n",
    "  print 'Running tests with p = ', p\n",
    "  print 'Mean of input: ', x.mean()\n",
    "  print 'Mean of train-time output: ', out.mean()\n",
    "  print 'Mean of test-time output: ', out_test.mean()\n",
    "  print 'Fraction of train-time output set to zero: ', (out == 0).mean()\n",
    "  print 'Fraction of test-time output set to zero: ', (out_test == 0).mean()\n",
    "  print"
   ]
  },
  {
   "cell_type": "markdown",
   "metadata": {},
   "source": [
    "# Dropout backward pass\n",
    "In the file `cs231n/layers.py`, implement the backward pass for dropout. After doing so, run the following cell to numerically gradient-check your implementation."
   ]
  },
  {
   "cell_type": "code",
   "execution_count": 4,
   "metadata": {
    "collapsed": false
   },
   "outputs": [
    {
     "name": "stdout",
     "output_type": "stream",
     "text": [
      "dx relative error:  5.44560899368e-11\n"
     ]
    }
   ],
   "source": [
    "x = np.random.randn(10, 10) + 10\n",
    "dout = np.random.randn(*x.shape)\n",
    "\n",
    "dropout_param = {'mode': 'train', 'p': 0.8, 'seed': 123}\n",
    "out, cache = dropout_forward(x, dropout_param)\n",
    "dx = dropout_backward(dout, cache)\n",
    "dx_num = eval_numerical_gradient_array(lambda xx: dropout_forward(xx, dropout_param)[0], x, dout)\n",
    "\n",
    "print 'dx relative error: ', rel_error(dx, dx_num)"
   ]
  },
  {
   "cell_type": "markdown",
   "metadata": {},
   "source": [
    "# Fully-connected nets with Dropout\n",
    "In the file `cs231n/classifiers/fc_net.py`, modify your implementation to use dropout. Specificially, if the constructor of the net receives a nonzero value for the `dropout` parameter, then the net should add dropout immediately after every ReLU nonlinearity. After doing so, run the following to numerically gradient-check your implementation."
   ]
  },
  {
   "cell_type": "code",
   "execution_count": 5,
   "metadata": {
    "collapsed": false
   },
   "outputs": [
    {
     "name": "stdout",
     "output_type": "stream",
     "text": [
      "Running check with dropout =  0\n",
      "Initial loss:  2.3051948274\n",
      "W1 relative error: 2.53e-07\n",
      "W2 relative error: 1.50e-05\n",
      "W3 relative error: 2.75e-07\n",
      "b1 relative error: 2.94e-06\n",
      "b2 relative error: 5.05e-08\n",
      "b3 relative error: 1.17e-10\n",
      "\n",
      "Running check with dropout =  0.25\n",
      "Initial loss:  2.32163289017\n",
      "W1 relative error: 4.24e-08\n",
      "W2 relative error: 7.57e-09\n",
      "W3 relative error: 5.09e-09\n",
      "b1 relative error: 2.68e-09\n",
      "b2 relative error: 2.62e-10\n",
      "b3 relative error: 2.31e-10\n",
      "\n",
      "Running check with dropout =  0.5\n",
      "Initial loss:  2.30356675866\n",
      "W1 relative error: 1.14e-06\n",
      "W2 relative error: 1.85e-07\n",
      "W3 relative error: 6.60e-09\n",
      "b1 relative error: 7.72e-08\n",
      "b2 relative error: 1.20e-09\n",
      "b3 relative error: 1.16e-10\n",
      "\n"
     ]
    }
   ],
   "source": [
    "N, D, H1, H2, C = 2, 15, 20, 30, 10\n",
    "X = np.random.randn(N, D)\n",
    "y = np.random.randint(C, size=(N,))\n",
    "\n",
    "for dropout in [0, 0.25, 0.5]:\n",
    "  print 'Running check with dropout = ', dropout\n",
    "  model = FullyConnectedNet([H1, H2], input_dim=D, num_classes=C,\n",
    "                            weight_scale=5e-2, dtype=np.float64,\n",
    "                            dropout=dropout, seed=123)\n",
    "\n",
    "  loss, grads = model.loss(X, y)\n",
    "  print 'Initial loss: ', loss\n",
    "\n",
    "  for name in sorted(grads):\n",
    "    f = lambda _: model.loss(X, y)[0]\n",
    "    grad_num = eval_numerical_gradient(f, model.params[name], verbose=False, h=1e-5)\n",
    "    print '%s relative error: %.2e' % (name, rel_error(grad_num, grads[name]))\n",
    "  print"
   ]
  },
  {
   "cell_type": "markdown",
   "metadata": {},
   "source": [
    "# Regularization experiment\n",
    "As an experiment, we will train a pair of two-layer networks on 500 training examples: one will use no dropout, and one will use a dropout probability of 0.75. We will then visualize the training and validation accuracies of the two networks over time."
   ]
  },
  {
   "cell_type": "code",
   "execution_count": 6,
   "metadata": {
    "collapsed": false,
    "scrolled": false
   },
   "outputs": [
    {
     "name": "stdout",
     "output_type": "stream",
     "text": [
      "0\n",
      "(Iteration 1 / 200) loss: 8.596245\n",
      "(Epoch 0 / 40) train acc: 0.224000; val_acc: 0.183000\n",
      "(Iteration 5 / 200) loss: 13.226105\n",
      "(Epoch 1 / 40) train acc: 0.382000; val_acc: 0.219000\n",
      "(Iteration 10 / 200) loss: 8.754415\n",
      "(Epoch 2 / 40) train acc: 0.484000; val_acc: 0.248000\n",
      "(Iteration 15 / 200) loss: 5.900601\n",
      "(Epoch 3 / 40) train acc: 0.620000; val_acc: 0.274000\n",
      "(Iteration 20 / 200) loss: 5.238370\n",
      "(Epoch 4 / 40) train acc: 0.654000; val_acc: 0.246000\n",
      "(Iteration 25 / 200) loss: 1.046066\n",
      "(Epoch 5 / 40) train acc: 0.726000; val_acc: 0.280000\n",
      "(Iteration 30 / 200) loss: 4.577042\n",
      "(Epoch 6 / 40) train acc: 0.786000; val_acc: 0.304000\n",
      "(Iteration 35 / 200) loss: 2.159223\n",
      "(Epoch 7 / 40) train acc: 0.814000; val_acc: 0.265000\n",
      "(Iteration 40 / 200) loss: 1.466782\n",
      "(Epoch 8 / 40) train acc: 0.844000; val_acc: 0.271000\n",
      "(Iteration 45 / 200) loss: 0.658918\n",
      "(Epoch 9 / 40) train acc: 0.898000; val_acc: 0.289000\n",
      "(Iteration 50 / 200) loss: 0.550422\n",
      "(Epoch 10 / 40) train acc: 0.932000; val_acc: 0.291000\n",
      "(Iteration 55 / 200) loss: 0.116263\n",
      "(Epoch 11 / 40) train acc: 0.960000; val_acc: 0.274000\n",
      "(Iteration 60 / 200) loss: 0.492442\n",
      "(Epoch 12 / 40) train acc: 0.948000; val_acc: 0.275000\n",
      "(Iteration 65 / 200) loss: 0.727488\n",
      "(Epoch 13 / 40) train acc: 0.970000; val_acc: 0.293000\n",
      "(Iteration 70 / 200) loss: 0.845002\n",
      "(Epoch 14 / 40) train acc: 0.946000; val_acc: 0.278000\n",
      "(Iteration 75 / 200) loss: 0.025790\n",
      "(Epoch 15 / 40) train acc: 0.948000; val_acc: 0.277000\n",
      "(Iteration 80 / 200) loss: 0.451392\n",
      "(Epoch 16 / 40) train acc: 0.976000; val_acc: 0.289000\n",
      "(Iteration 85 / 200) loss: 0.132843\n",
      "(Epoch 17 / 40) train acc: 0.976000; val_acc: 0.281000\n",
      "(Iteration 90 / 200) loss: 0.242038\n",
      "(Epoch 18 / 40) train acc: 0.966000; val_acc: 0.280000\n",
      "(Iteration 95 / 200) loss: 0.020434\n",
      "(Epoch 19 / 40) train acc: 0.974000; val_acc: 0.276000\n",
      "(Iteration 100 / 200) loss: 0.141664\n",
      "(Epoch 20 / 40) train acc: 0.982000; val_acc: 0.303000\n",
      "(Iteration 105 / 200) loss: 0.031737\n",
      "(Epoch 21 / 40) train acc: 0.994000; val_acc: 0.302000\n",
      "(Iteration 110 / 200) loss: 0.011350\n",
      "(Epoch 22 / 40) train acc: 0.988000; val_acc: 0.307000\n",
      "(Iteration 115 / 200) loss: 0.000502\n",
      "(Epoch 23 / 40) train acc: 0.988000; val_acc: 0.287000\n",
      "(Iteration 120 / 200) loss: 0.001166\n",
      "(Epoch 24 / 40) train acc: 0.982000; val_acc: 0.285000\n",
      "(Iteration 125 / 200) loss: 0.085345\n",
      "(Epoch 25 / 40) train acc: 0.984000; val_acc: 0.297000\n",
      "(Iteration 130 / 200) loss: 0.065558\n",
      "(Epoch 26 / 40) train acc: 0.990000; val_acc: 0.295000\n",
      "(Iteration 135 / 200) loss: 0.003988\n",
      "(Epoch 27 / 40) train acc: 0.988000; val_acc: 0.292000\n",
      "(Iteration 140 / 200) loss: 0.000424\n",
      "(Epoch 28 / 40) train acc: 1.000000; val_acc: 0.299000\n",
      "(Iteration 145 / 200) loss: 0.021365\n",
      "(Epoch 29 / 40) train acc: 0.996000; val_acc: 0.294000\n",
      "(Iteration 150 / 200) loss: 0.000502\n",
      "(Epoch 30 / 40) train acc: 0.996000; val_acc: 0.286000\n",
      "(Iteration 155 / 200) loss: 0.004519\n",
      "(Epoch 31 / 40) train acc: 1.000000; val_acc: 0.291000\n",
      "(Iteration 160 / 200) loss: 0.000293\n",
      "(Epoch 32 / 40) train acc: 1.000000; val_acc: 0.289000\n",
      "(Iteration 165 / 200) loss: 0.038940\n",
      "(Epoch 33 / 40) train acc: 1.000000; val_acc: 0.290000\n",
      "(Iteration 170 / 200) loss: 0.000243\n",
      "(Epoch 34 / 40) train acc: 1.000000; val_acc: 0.283000\n",
      "(Iteration 175 / 200) loss: 0.000120\n",
      "(Epoch 35 / 40) train acc: 1.000000; val_acc: 0.288000\n",
      "(Iteration 180 / 200) loss: 0.000349\n",
      "(Epoch 36 / 40) train acc: 1.000000; val_acc: 0.284000\n",
      "(Iteration 185 / 200) loss: 0.000165\n",
      "(Epoch 37 / 40) train acc: 1.000000; val_acc: 0.283000\n",
      "(Iteration 190 / 200) loss: 0.000299\n",
      "(Epoch 38 / 40) train acc: 1.000000; val_acc: 0.285000\n",
      "(Iteration 195 / 200) loss: 0.000152\n",
      "(Epoch 39 / 40) train acc: 1.000000; val_acc: 0.282000\n",
      "(Iteration 200 / 200) loss: 0.000107\n",
      "(Epoch 40 / 40) train acc: 1.000000; val_acc: 0.282000\n",
      "0.75\n",
      "(Iteration 1 / 200) loss: 6.070799\n",
      "(Epoch 0 / 40) train acc: 0.194000; val_acc: 0.195000\n",
      "(Iteration 5 / 200) loss: 7.728090\n",
      "(Epoch 1 / 40) train acc: 0.374000; val_acc: 0.255000\n",
      "(Iteration 10 / 200) loss: 6.585476\n",
      "(Epoch 2 / 40) train acc: 0.460000; val_acc: 0.285000\n",
      "(Iteration 15 / 200) loss: 6.451630\n",
      "(Epoch 3 / 40) train acc: 0.520000; val_acc: 0.322000\n",
      "(Iteration 20 / 200) loss: 5.228126\n",
      "(Epoch 4 / 40) train acc: 0.594000; val_acc: 0.316000\n",
      "(Iteration 25 / 200) loss: 6.432036\n",
      "(Epoch 5 / 40) train acc: 0.588000; val_acc: 0.294000\n",
      "(Iteration 30 / 200) loss: 4.578633\n",
      "(Epoch 6 / 40) train acc: 0.692000; val_acc: 0.321000\n",
      "(Iteration 35 / 200) loss: 3.271880\n",
      "(Epoch 7 / 40) train acc: 0.690000; val_acc: 0.295000\n",
      "(Iteration 40 / 200) loss: 4.403930\n",
      "(Epoch 8 / 40) train acc: 0.736000; val_acc: 0.312000\n",
      "(Iteration 45 / 200) loss: 4.201672\n",
      "(Epoch 9 / 40) train acc: 0.756000; val_acc: 0.310000\n",
      "(Iteration 50 / 200) loss: 3.627570\n",
      "(Epoch 10 / 40) train acc: 0.772000; val_acc: 0.319000\n",
      "(Iteration 55 / 200) loss: 2.722545\n",
      "(Epoch 11 / 40) train acc: 0.812000; val_acc: 0.302000\n",
      "(Iteration 60 / 200) loss: 2.302242\n",
      "(Epoch 12 / 40) train acc: 0.836000; val_acc: 0.319000\n",
      "(Iteration 65 / 200) loss: 2.378534\n",
      "(Epoch 13 / 40) train acc: 0.832000; val_acc: 0.308000\n",
      "(Iteration 70 / 200) loss: 3.676115\n",
      "(Epoch 14 / 40) train acc: 0.860000; val_acc: 0.316000\n",
      "(Iteration 75 / 200) loss: 1.973796\n",
      "(Epoch 15 / 40) train acc: 0.850000; val_acc: 0.303000\n",
      "(Iteration 80 / 200) loss: 2.216216\n",
      "(Epoch 16 / 40) train acc: 0.862000; val_acc: 0.325000\n",
      "(Iteration 85 / 200) loss: 2.145757\n",
      "(Epoch 17 / 40) train acc: 0.860000; val_acc: 0.308000\n",
      "(Iteration 90 / 200) loss: 2.495290\n",
      "(Epoch 18 / 40) train acc: 0.858000; val_acc: 0.287000\n",
      "(Iteration 95 / 200) loss: 1.704832\n",
      "(Epoch 19 / 40) train acc: 0.858000; val_acc: 0.292000\n",
      "(Iteration 100 / 200) loss: 1.742820\n",
      "(Epoch 20 / 40) train acc: 0.908000; val_acc: 0.315000\n",
      "(Iteration 105 / 200) loss: 1.948255\n",
      "(Epoch 21 / 40) train acc: 0.890000; val_acc: 0.303000\n",
      "(Iteration 110 / 200) loss: 1.732989\n",
      "(Epoch 22 / 40) train acc: 0.930000; val_acc: 0.306000\n",
      "(Iteration 115 / 200) loss: 2.001048\n",
      "(Epoch 23 / 40) train acc: 0.922000; val_acc: 0.300000\n",
      "(Iteration 120 / 200) loss: 1.301924\n",
      "(Epoch 24 / 40) train acc: 0.940000; val_acc: 0.294000\n",
      "(Iteration 125 / 200) loss: 1.572783\n",
      "(Epoch 25 / 40) train acc: 0.946000; val_acc: 0.315000\n",
      "(Iteration 130 / 200) loss: 1.728960\n",
      "(Epoch 26 / 40) train acc: 0.958000; val_acc: 0.330000\n",
      "(Iteration 135 / 200) loss: 1.323985\n",
      "(Epoch 27 / 40) train acc: 0.938000; val_acc: 0.319000\n",
      "(Iteration 140 / 200) loss: 1.672335\n",
      "(Epoch 28 / 40) train acc: 0.942000; val_acc: 0.305000\n",
      "(Iteration 145 / 200) loss: 1.166995\n",
      "(Epoch 29 / 40) train acc: 0.956000; val_acc: 0.326000\n",
      "(Iteration 150 / 200) loss: 1.063393\n",
      "(Epoch 30 / 40) train acc: 0.952000; val_acc: 0.321000\n",
      "(Iteration 155 / 200) loss: 1.090747\n",
      "(Epoch 31 / 40) train acc: 0.944000; val_acc: 0.316000\n",
      "(Iteration 160 / 200) loss: 1.278707\n",
      "(Epoch 32 / 40) train acc: 0.964000; val_acc: 0.318000\n",
      "(Iteration 165 / 200) loss: 1.019736\n",
      "(Epoch 33 / 40) train acc: 0.962000; val_acc: 0.326000\n",
      "(Iteration 170 / 200) loss: 1.332880\n",
      "(Epoch 34 / 40) train acc: 0.972000; val_acc: 0.315000\n",
      "(Iteration 175 / 200) loss: 0.932116\n",
      "(Epoch 35 / 40) train acc: 0.952000; val_acc: 0.328000\n",
      "(Iteration 180 / 200) loss: 1.227246\n",
      "(Epoch 36 / 40) train acc: 0.958000; val_acc: 0.336000\n",
      "(Iteration 185 / 200) loss: 1.075660\n",
      "(Epoch 37 / 40) train acc: 0.974000; val_acc: 0.310000\n",
      "(Iteration 190 / 200) loss: 0.752312\n",
      "(Epoch 38 / 40) train acc: 0.978000; val_acc: 0.309000\n",
      "(Iteration 195 / 200) loss: 0.551228\n",
      "(Epoch 39 / 40) train acc: 0.984000; val_acc: 0.321000\n",
      "(Iteration 200 / 200) loss: 0.882112\n",
      "(Epoch 40 / 40) train acc: 0.980000; val_acc: 0.323000\n"
     ]
    }
   ],
   "source": [
    "# Train two identical nets, one with dropout and one without\n",
    "\n",
    "num_train = 500\n",
    "small_data = {\n",
    "  'X_train': data['X_train'][:num_train],\n",
    "  'y_train': data['y_train'][:num_train],\n",
    "  'X_val': data['X_val'],\n",
    "  'y_val': data['y_val'],\n",
    "}\n",
    "\n",
    "solvers = {}\n",
    "dropout_choices = [0, 0.75]\n",
    "for dropout in dropout_choices:\n",
    "  model = FullyConnectedNet([500], dropout=dropout)\n",
    "  print dropout\n",
    "\n",
    "  solver = Solver(model, small_data,\n",
    "                  num_epochs=40, batch_size=100,\n",
    "                  update_rule='adam',\n",
    "                  optim_config={\n",
    "                    'learning_rate': 5e-4,\n",
    "                  },\n",
    "                  verbose=True, print_every=500)\n",
    "  solver.train()\n",
    "  solvers[dropout] = solver"
   ]
  },
  {
   "cell_type": "code",
   "execution_count": 7,
   "metadata": {
    "collapsed": false
   },
   "outputs": [
    {
     "data": {
      "image/png": "[encoded data removed]",
      "text/plain": [
       "<matplotlib.figure.Figure at 0x7f59070809d0>"
      ]
     },
     "metadata": {},
     "output_type": "display_data"
    }
   ],
   "source": [
    "# Plot train and validation accuracies of the two models\n",
    "\n",
    "train_accs = []\n",
    "val_accs = []\n",
    "for dropout in dropout_choices:\n",
    "  solver = solvers[dropout]\n",
    "  train_accs.append(solver.train_acc_history[-1])\n",
    "  val_accs.append(solver.val_acc_history[-1])\n",
    "\n",
    "plt.subplot(3, 1, 1)\n",
    "for dropout in dropout_choices:\n",
    "  plt.plot(solvers[dropout].train_acc_history, 'o', label='%.2f dropout' % dropout)\n",
    "plt.title('Train accuracy')\n",
    "plt.xlabel('Epoch')\n",
    "plt.ylabel('Accuracy')\n",
    "plt.legend(ncol=2, loc='lower right')\n",
    "  \n",
    "plt.subplot(3, 1, 2)\n",
    "for dropout in dropout_choices:\n",
    "  plt.plot(solvers[dropout].val_acc_history, 'o', label='%.2f dropout' % dropout)\n",
    "plt.title('Val accuracy')\n",
    "plt.xlabel('Epoch')\n",
    "plt.ylabel('Accuracy')\n",
    "plt.legend(ncol=2, loc='lower right')\n",
    "\n",
    "plt.gcf().set_size_inches(15, 15)\n",
    "plt.show()"
   ]
  },
  {
   "cell_type": "markdown",
   "metadata": {},
   "source": [
    "# Question\n",
    "Explain what you see in this experiment. What does it suggest about dropout?"
   ]
  },
  {
   "cell_type": "markdown",
   "metadata": {},
   "source": [
    "# Answer\n",
    "\n",
    "My answer: the dropout acts as a regularizer. It has good effect on prevent overfitting.\n",
    "\n",
    "At the same epoch, the training accurary of w/ dropout(p=0.75) is lower than w/o dropout(p=0). Meanwhile, NN w/ dropout achives a the validation accurary, which suggests that overfitting is mitigated by dropout/inverted dropout technique.\n",
    "\n",
    "That is what regularization is all about: you sacrifice train-accuracy, but you gain validation-accuracy."
   ]
  }
 ],
 "metadata": {
  "kernelspec": {
   "display_name": "Python 2",
   "language": "python",
   "name": "python2"
  },
  "language_info": {
   "codemirror_mode": {
    "name": "ipython",
    "version": 2
   },
   "file_extension": ".py",
   "mimetype": "text/x-python",
   "name": "python",
   "nbconvert_exporter": "python",
   "pygments_lexer": "ipython2",
   "version": "2.7.13"
  }
 },
 "nbformat": 4,
 "nbformat_minor": 0
}
